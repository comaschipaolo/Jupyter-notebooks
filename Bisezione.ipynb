{
 "cells": [
  {
   "cell_type": "markdown",
   "id": "f6c812d9",
   "metadata": {},
   "source": [
    "# Metodo di Bisezione\n",
    "In questo Notebbok impariamo a risolvere in modo approssimato qualsiasi equazione del tipo\n",
    "\n",
    "$$f(x) = 0 $$\n",
    "\n",
    "Per farlo usiamo il linguaggio Python."
   ]
  },
  {
   "cell_type": "markdown",
   "id": "439129dd",
   "metadata": {},
   "source": [
    "### Definizione di una funzione numerica\n",
    "\n",
    "La seguente cella definisce la funzione\n",
    "\n",
    "$$f(x) = \\frac{\\sin(x)}{x}$$\n",
    "\n",
    "Per poter usare la funzione $\\sin(x)$, dobbiamo includere il modulo di funzioni mathematiche di Python."
   ]
  },
  {
   "cell_type": "code",
   "execution_count": 2,
   "id": "98548109",
   "metadata": {},
   "outputs": [
    {
     "name": "stdout",
     "output_type": "stream",
     "text": [
      "0.8414709848078965 0.45464871341284085 0.0470400026866224 -0.18920062382698205\n"
     ]
    }
   ],
   "source": [
    "import math\n",
    "f = lambda x: math.sin(x)/x\n",
    "\n",
    "print(f(1), f(2), f(3), f(4))"
   ]
  },
  {
   "cell_type": "markdown",
   "id": "18c7d2ff",
   "metadata": {},
   "source": [
    "Possiamo rappresentare il grafico della funzione, importando i moduli opportuni."
   ]
  },
  {
   "cell_type": "code",
   "execution_count": 3,
   "id": "629de088",
   "metadata": {},
   "outputs": [
    {
     "data": {
      "text/plain": [
       "[<matplotlib.lines.Line2D at 0x7fb9414c37f0>]"
      ]
     },
     "execution_count": 3,
     "metadata": {},
     "output_type": "execute_result"
    },
    {
     "data": {
      "image/png": "[encoded data removed]",
      "text/plain": [
       "<Figure size 432x288 with 1 Axes>"
      ]
     },
     "metadata": {
      "needs_background": "light"
     },
     "output_type": "display_data"
    }
   ],
   "source": [
    "import matplotlib.pyplot as plt\n",
    "import numpy as np\n",
    "\n",
    "x_vec = np.linspace(0.1, 10, 100)\n",
    "y_vec = list(map(f, x_vec))\n",
    "plt.plot(x_vec, y_vec)"
   ]
  },
  {
   "cell_type": "markdown",
   "id": "4acf74c0",
   "metadata": {},
   "source": [
    "### L'idea alla base del metodo di bisezione\n",
    "\n",
    "Dai calcoli precedenti è emerso che $f(3) \\approx 0.047 > 0$ e $f(4) \\approx -0.19 < 0$. Deve quindi esistere uno zero $\\bar{x}$ della funzione tale che\n",
    "\n",
    "$$f(\\bar{x}) = 0$$\n",
    "e\n",
    "$$ 3 < \\bar{x} < 4$$\n",
    "\n",
    "Diamo un nome agli estremi del nostro intervallo e consideriamo il punto medio:"
   ]
  },
  {
   "cell_type": "code",
   "execution_count": 4,
   "id": "d31bc60c",
   "metadata": {},
   "outputs": [
    {
     "name": "stdout",
     "output_type": "stream",
     "text": [
      "-0.10022377933989138\n"
     ]
    }
   ],
   "source": [
    "x_min = 3\n",
    "x_max = 4\n",
    "x_med = (x_min + x_max)/2\n",
    "\n",
    "print(f(x_med))"
   ]
  },
  {
   "cell_type": "markdown",
   "id": "f853ebf4",
   "metadata": {},
   "source": [
    "La funzione calcolata nel punto medio del nostro intervallo ha valore negativo, quindi lo zero è nella metà sinistra dell'intervallo.\n",
    "\n",
    "$$x_{min} < \\bar{x} < x_{med}$$\n",
    "$$ 3 < \\bar{x} < 3.5$$\n",
    "\n",
    "Quindi, possiamo restringere l'intervallo che contiene $\\bar{x}$ ponendo $x_{max} = x_{med}$.\n",
    "\n",
    "Visualizziamo graficamente questi valori:\n",
    "\n"
   ]
  },
  {
   "cell_type": "code",
   "execution_count": 5,
   "id": "e016eac1",
   "metadata": {},
   "outputs": [
    {
     "data": {
      "text/plain": [
       "<matplotlib.collections.PathCollection at 0x7fb9415fc160>"
      ]
     },
     "execution_count": 5,
     "metadata": {},
     "output_type": "execute_result"
    },
    {
     "data": {
      "image/png": "[encoded data removed]",
      "text/plain": [
       "<Figure size 432x288 with 1 Axes>"
      ]
     },
     "metadata": {
      "needs_background": "light"
     },
     "output_type": "display_data"
    }
   ],
   "source": [
    "plt.plot(x_vec, y_vec)\n",
    "plt.scatter(x_min, 0, color = \"r\")\n",
    "plt.scatter(x_max, 0, color = \"b\")\n",
    "plt.scatter(x_med,0, color = \"g\")"
   ]
  },
  {
   "cell_type": "markdown",
   "id": "e352c3e3",
   "metadata": {},
   "source": [
    "Restringiamo il nostro intervallo iterando queste operazioni:"
   ]
  },
  {
   "cell_type": "code",
   "execution_count": null,
   "id": "30a01972",
   "metadata": {},
   "outputs": [],
   "source": [
    "x_max = x_med\n",
    "x_med = (x_min + x_max)/2\n",
    "print(x_med)\n",
    "\n",
    "print(f(x_med))"
   ]
  },
  {
   "cell_type": "markdown",
   "id": "726f445e",
   "metadata": {},
   "source": [
    "Quindi, nuovamente, lo zero è nella metà sinistra dell'intervallo\n",
    "\n",
    "$$ 3 < \\bar{x} < 3.125$$\n",
    "\n",
    "e $x_{min} = 3$, $x_{max} = 3.125$.\n",
    "#### Esercizio 1\n",
    "Rappresenta graficamente la funzione e l'intervallo corrente che contiene lo zero della funzione ([x_min, x_max]).\n",
    "#### Esercizio 2\n",
    "Restringi ulteriormente l'intervallo, ripetendo le operazioni precedenti"
   ]
  },
  {
   "cell_type": "code",
   "execution_count": null,
   "id": "9341fbbe",
   "metadata": {},
   "outputs": [],
   "source": []
  },
  {
   "cell_type": "markdown",
   "id": "bc417f85",
   "metadata": {},
   "source": [
    "## Selezione dell'intervallo con struttura if-else\n",
    "Possiamo usare il costrutto condizionale if-else per restringere l'intervallo automaticamente:"
   ]
  },
  {
   "cell_type": "code",
   "execution_count": 9,
   "id": "b3ba2446",
   "metadata": {},
   "outputs": [
    {
     "name": "stdout",
     "output_type": "stream",
     "text": [
      "3.125 0.005309405513391329\n",
      "3.1875 -0.014397246516950494\n"
     ]
    }
   ],
   "source": [
    "x_med = (x_min + x_max)/2\n",
    "\n",
    "if f(x_min)*f(x_med) < 0: \n",
    "    # in questo caso, f(x_min) e f(x_med) sono discordi, quindi lo zero è nella metà sinistra dell'intervallo\n",
    "    x_max = x_med\n",
    "else:\n",
    "    # altrimenti lo zero è nella metà destra dell'intervallo\n",
    "    x_min = x_med\n",
    "print(x_min, f(x_min))\n",
    "print(x_max, f(x_max))"
   ]
  },
  {
   "cell_type": "markdown",
   "id": "71d9e85d",
   "metadata": {},
   "source": [
    "Prova a eseguire ripetutamente la cella precedente per restringere l'intervallo con la soluzione"
   ]
  },
  {
   "cell_type": "markdown",
   "id": "f4a4b5ed",
   "metadata": {},
   "source": [
    "## Iterazione del processo con ciclo while\n",
    "Possiamo automatizzare completamente il processo di bisezione usando un ciclo while. Per farlo, fissiamo la precisione con cui vogliamo conoscere lo zero della funzione $\\bar{x}$, cioè l'estensione massima dell'intervallo che contiene $\\bar{x}$.\n",
    "Nella seguente cella, ripartiamo dall'inizio, fissando nuovamente $x_{min} = 3$ e x_max = 4."
   ]
  },
  {
   "cell_type": "code",
   "execution_count": null,
   "id": "40ddcfe9",
   "metadata": {},
   "outputs": [],
   "source": [
    "x_min = 3\n",
    "x_max = 4\n",
    "\n",
    "# estensione massima dell'intervallo\n",
    "delta = 0.01\n",
    "\n",
    "while x_max - x_min > delta:\n",
    "    x_med = (x_max + x_min)/2\n",
    "    \n",
    "    \n",
    "    print(x_min, x_med, x_max)\n",
    "    \n",
    "    if f(x_min)*f(x_med) < 0: \n",
    "        # in questo caso, f(x_min) e f(x_med) sono discordi, quindi lo zero è nella metà sinistra dell'intervallo\n",
    "        x_max = x_med\n",
    "    else:\n",
    "        # altrimenti lo zero è nella metà destra dell'intervallo\n",
    "        x_min = x_med\n"
   ]
  },
  {
   "cell_type": "markdown",
   "id": "a045c87d",
   "metadata": {},
   "source": [
    "Il seguente codice rappresenta graficamente il processo di restrizione dell'intervallo"
   ]
  },
  {
   "cell_type": "code",
   "execution_count": null,
   "id": "a483b1b5",
   "metadata": {},
   "outputs": [],
   "source": [
    "x_min = 3\n",
    "x_max = 4\n",
    "\n",
    "x_vec = np.linspace(x_min, x_max, 100)\n",
    "y_vec = list(map(f, x_vec))\n",
    "\n",
    "# estensione massima dell'intervallo\n",
    "delta = 0.01\n",
    "\n",
    "while x_max - x_min > delta:\n",
    "    x_med = (x_max + x_min)/2\n",
    "    \n",
    "    \n",
    "    print(x_min, x_med, x_max)\n",
    "    plt.plot(x_vec, y_vec)\n",
    "    plt.scatter([x_min, x_med, x_max],[0,0,0])\n",
    "    plt.pause(1)\n",
    "    \n",
    "    if f(x_min)*f(x_med) < 0: \n",
    "        # in questo caso, f(x_min) e f(x_med) sono discordi, quindi lo zero è nella metà sinistra dell'intervallo\n",
    "        x_max = x_med\n",
    "    else:\n",
    "        # altrimenti lo zero è nella metà destra dell'intervallo\n",
    "        x_min = x_med"
   ]
  },
  {
   "cell_type": "code",
   "execution_count": null,
   "id": "bd64ea7f",
   "metadata": {},
   "outputs": [],
   "source": []
  }
 ],
 "metadata": {
  "kernelspec": {
   "display_name": "Python 3 (ipykernel)",
   "language": "python",
   "name": "python3"
  },
  "language_info": {
   "codemirror_mode": {
    "name": "ipython",
    "version": 3
   },
   "file_extension": ".py",
   "mimetype": "text/x-python",
   "name": "python",
   "nbconvert_exporter": "python",
   "pygments_lexer": "ipython3",
   "version": "3.9.7"
  }
 },
 "nbformat": 4,
 "nbformat_minor": 5
}
